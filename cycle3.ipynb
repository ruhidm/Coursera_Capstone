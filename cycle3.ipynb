{
 "cells": [
  {
   "cell_type": "markdown",
   "metadata": {},
   "source": [
    "# Canadian Health Community Survey: cycle 3 - 2005\n",
    "\n",
    "MA,\n",
    "Ruhid Mirzayev - 2020"
   ]
  },
  {
   "cell_type": "markdown",
   "metadata": {},
   "source": [
    "    Questions have been solved in this project.\n",
    "    \n",
    "1. Average hospital stay and physisian visit in Canada in 2005.\n",
    "2. Defining problem 1 by age groups( aged 30 and below, 30-64, and 65 and more). Does cancer varies by age groups?\n",
    "3. Finding demand for healthcare. Do walking for exercise, age, income, affect demand for healthcare?\n",
    "4. Defining cancer by using age, income and BMI( Body Mass Index)"
   ]
  },
  {
   "cell_type": "code",
   "execution_count": 1,
   "metadata": {},
   "outputs": [],
   "source": [
    "# Importing essential libraries of Python as below:\n",
    "\n",
    "import pandas as pd\n",
    "import numpy as np\n",
    "import matplotlib.pyplot as plt\n",
    "import sklearn as sk\n",
    "\n",
    "from pandas import Series, DataFrame\n",
    "from matplotlib import rcParams\n",
    "\n",
    "%matplotlib inline\n",
    "rcParams['figure.figsize'] = 5,4"
   ]
  },
  {
   "cell_type": "code",
   "execution_count": 16,
   "metadata": {},
   "outputs": [],
   "source": [
    "# Importing Data from Macbook:\n",
    "address = ('/Users/ruhidmirzayev/Downloads/myportfolio/cycle_2005/cchs-82M0013-E-2005-c3-1-main-file_F1.csv')\n",
    "df=pd.read_csv(address)\n"
   ]
  },
  {
   "cell_type": "code",
   "execution_count": 17,
   "metadata": {},
   "outputs": [
    {
     "data": {
      "text/plain": [
       "Index(['ADME_RNO', 'GEOEGPRV', 'GEOEDPMF', 'GEOEGSHR', 'SAME_TYP', 'ADME_PRX',\n",
       "       'ADME_N09', 'ADME_N10', 'ADME_N11', 'DHHEGAGE',\n",
       "       ...\n",
       "       'FSCE_110', 'FSCE_120', 'FSCE_121', 'FSCE_130', 'FSCE_140', 'FSCE_141',\n",
       "       'FSCE_150', 'FSCE_160', 'FSCEDHFS', 'WTSE_M'],\n",
       "      dtype='object', length=1284)"
      ]
     },
     "execution_count": 17,
     "metadata": {},
     "output_type": "execute_result"
    }
   ],
   "source": [
    "df.columns"
   ]
  },
  {
   "cell_type": "markdown",
   "metadata": {},
   "source": [
    " #### We need to choose variables we need\n",
    " The variable names need to be defined as a understandable way. We edited their names from Variable Description Handbook"
   ]
  },
  {
   "cell_type": "code",
   "execution_count": 18,
   "metadata": {},
   "outputs": [
    {
     "data": {
      "text/html": [
       "<div>\n",
       "<style scoped>\n",
       "    .dataframe tbody tr th:only-of-type {\n",
       "        vertical-align: middle;\n",
       "    }\n",
       "\n",
       "    .dataframe tbody tr th {\n",
       "        vertical-align: top;\n",
       "    }\n",
       "\n",
       "    .dataframe thead th {\n",
       "        text-align: right;\n",
       "    }\n",
       "</style>\n",
       "<table border=\"1\" class=\"dataframe\">\n",
       "  <thead>\n",
       "    <tr style=\"text-align: right;\">\n",
       "      <th></th>\n",
       "      <th>age</th>\n",
       "      <th>sex</th>\n",
       "      <th>cancer</th>\n",
       "      <th>income</th>\n",
       "      <th>height</th>\n",
       "      <th>weight</th>\n",
       "      <th>BMI</th>\n",
       "      <th>overnight_patient</th>\n",
       "      <th>hosp_stay</th>\n",
       "      <th>physisian_visit</th>\n",
       "      <th>walking</th>\n",
       "    </tr>\n",
       "  </thead>\n",
       "  <tbody>\n",
       "    <tr>\n",
       "      <th>0</th>\n",
       "      <td>5</td>\n",
       "      <td>1</td>\n",
       "      <td>2</td>\n",
       "      <td>4</td>\n",
       "      <td>1.854</td>\n",
       "      <td>90.00</td>\n",
       "      <td>26.18</td>\n",
       "      <td>2</td>\n",
       "      <td>96</td>\n",
       "      <td>1</td>\n",
       "      <td>1</td>\n",
       "    </tr>\n",
       "    <tr>\n",
       "      <th>1</th>\n",
       "      <td>15</td>\n",
       "      <td>2</td>\n",
       "      <td>2</td>\n",
       "      <td>3</td>\n",
       "      <td>1.575</td>\n",
       "      <td>56.70</td>\n",
       "      <td>22.86</td>\n",
       "      <td>2</td>\n",
       "      <td>96</td>\n",
       "      <td>3</td>\n",
       "      <td>1</td>\n",
       "    </tr>\n",
       "    <tr>\n",
       "      <th>2</th>\n",
       "      <td>6</td>\n",
       "      <td>1</td>\n",
       "      <td>2</td>\n",
       "      <td>3</td>\n",
       "      <td>1.651</td>\n",
       "      <td>108.00</td>\n",
       "      <td>39.62</td>\n",
       "      <td>2</td>\n",
       "      <td>96</td>\n",
       "      <td>2</td>\n",
       "      <td>2</td>\n",
       "    </tr>\n",
       "    <tr>\n",
       "      <th>3</th>\n",
       "      <td>15</td>\n",
       "      <td>2</td>\n",
       "      <td>2</td>\n",
       "      <td>2</td>\n",
       "      <td>1.575</td>\n",
       "      <td>69.75</td>\n",
       "      <td>28.12</td>\n",
       "      <td>2</td>\n",
       "      <td>96</td>\n",
       "      <td>1</td>\n",
       "      <td>1</td>\n",
       "    </tr>\n",
       "    <tr>\n",
       "      <th>4</th>\n",
       "      <td>16</td>\n",
       "      <td>2</td>\n",
       "      <td>2</td>\n",
       "      <td>99</td>\n",
       "      <td>1.575</td>\n",
       "      <td>58.50</td>\n",
       "      <td>23.58</td>\n",
       "      <td>2</td>\n",
       "      <td>96</td>\n",
       "      <td>2</td>\n",
       "      <td>1</td>\n",
       "    </tr>\n",
       "  </tbody>\n",
       "</table>\n",
       "</div>"
      ],
      "text/plain": [
       "   age  sex  cancer  income  height  weight    BMI  overnight_patient  \\\n",
       "0    5    1       2       4   1.854   90.00  26.18                  2   \n",
       "1   15    2       2       3   1.575   56.70  22.86                  2   \n",
       "2    6    1       2       3   1.651  108.00  39.62                  2   \n",
       "3   15    2       2       2   1.575   69.75  28.12                  2   \n",
       "4   16    2       2      99   1.575   58.50  23.58                  2   \n",
       "\n",
       "   hosp_stay  physisian_visit  walking  \n",
       "0         96                1        1  \n",
       "1         96                3        1  \n",
       "2         96                2        2  \n",
       "3         96                1        1  \n",
       "4         96                2        1  "
      ]
     },
     "execution_count": 18,
     "metadata": {},
     "output_type": "execute_result"
    }
   ],
   "source": [
    "# We need to choose 11 variables out of 1284\n",
    "df= df[['DHHEGAGE','DHHE_SEX', 'CCCE_131','INCEGPER', 'HWTEGHTM','HWTEGWTK','HWTEGBMI','HCUE_01', 'HCUEG01A', 'HCUEG02A', 'PACE_1A' ]]\n",
    "df.columns = ['age','sex', 'cancer','income','height', 'weight', 'BMI', 'overnight_patient', 'hosp_stay', 'physisian_visit', 'walking']\n",
    "df.head()"
   ]
  },
  {
   "cell_type": "code",
   "execution_count": 20,
   "metadata": {},
   "outputs": [
    {
     "name": "stdout",
     "output_type": "stream",
     "text": [
      "<class 'pandas.core.frame.DataFrame'>\n",
      "RangeIndex: 132221 entries, 0 to 132220\n",
      "Data columns (total 11 columns):\n",
      " #   Column             Non-Null Count   Dtype  \n",
      "---  ------             --------------   -----  \n",
      " 0   age                132221 non-null  int64  \n",
      " 1   sex                132221 non-null  int64  \n",
      " 2   cancer             132221 non-null  int64  \n",
      " 3   income             132221 non-null  int64  \n",
      " 4   height             132221 non-null  float64\n",
      " 5   weight             132221 non-null  float64\n",
      " 6   BMI                132221 non-null  float64\n",
      " 7   overnight_patient  132221 non-null  int64  \n",
      " 8   hosp_stay          132221 non-null  int64  \n",
      " 9   physisian_visit    132221 non-null  int64  \n",
      " 10  walking            132221 non-null  int64  \n",
      "dtypes: float64(3), int64(8)\n",
      "memory usage: 11.1 MB\n"
     ]
    }
   ],
   "source": [
    "df.info()"
   ]
  },
  {
   "cell_type": "code",
   "execution_count": 21,
   "metadata": {},
   "outputs": [
    {
     "data": {
      "text/html": [
       "<div>\n",
       "<style scoped>\n",
       "    .dataframe tbody tr th:only-of-type {\n",
       "        vertical-align: middle;\n",
       "    }\n",
       "\n",
       "    .dataframe tbody tr th {\n",
       "        vertical-align: top;\n",
       "    }\n",
       "\n",
       "    .dataframe thead th {\n",
       "        text-align: right;\n",
       "    }\n",
       "</style>\n",
       "<table border=\"1\" class=\"dataframe\">\n",
       "  <thead>\n",
       "    <tr style=\"text-align: right;\">\n",
       "      <th></th>\n",
       "      <th>age</th>\n",
       "      <th>sex</th>\n",
       "      <th>cancer</th>\n",
       "      <th>income</th>\n",
       "      <th>height</th>\n",
       "      <th>weight</th>\n",
       "      <th>BMI</th>\n",
       "      <th>overnight_patient</th>\n",
       "      <th>hosp_stay</th>\n",
       "      <th>physisian_visit</th>\n",
       "      <th>walking</th>\n",
       "    </tr>\n",
       "  </thead>\n",
       "  <tbody>\n",
       "    <tr>\n",
       "      <th>count</th>\n",
       "      <td>132221.000000</td>\n",
       "      <td>132221.000000</td>\n",
       "      <td>132221.000000</td>\n",
       "      <td>132221.000000</td>\n",
       "      <td>132221.000000</td>\n",
       "      <td>132221.000000</td>\n",
       "      <td>132221.000000</td>\n",
       "      <td>132221.000000</td>\n",
       "      <td>132221.000000</td>\n",
       "      <td>132221.000000</td>\n",
       "      <td>132221.000000</td>\n",
       "    </tr>\n",
       "    <tr>\n",
       "      <th>mean</th>\n",
       "      <td>8.685859</td>\n",
       "      <td>1.542092</td>\n",
       "      <td>1.987468</td>\n",
       "      <td>21.071388</td>\n",
       "      <td>1.756112</td>\n",
       "      <td>101.120540</td>\n",
       "      <td>62.423490</td>\n",
       "      <td>1.910937</td>\n",
       "      <td>87.784308</td>\n",
       "      <td>3.667231</td>\n",
       "      <td>1.443666</td>\n",
       "    </tr>\n",
       "    <tr>\n",
       "      <th>std</th>\n",
       "      <td>4.187014</td>\n",
       "      <td>0.498227</td>\n",
       "      <td>0.210958</td>\n",
       "      <td>37.005055</td>\n",
       "      <td>0.765397</td>\n",
       "      <td>159.312177</td>\n",
       "      <td>185.801218</td>\n",
       "      <td>0.332494</td>\n",
       "      <td>25.920900</td>\n",
       "      <td>7.909545</td>\n",
       "      <td>1.125446</td>\n",
       "    </tr>\n",
       "    <tr>\n",
       "      <th>min</th>\n",
       "      <td>1.000000</td>\n",
       "      <td>1.000000</td>\n",
       "      <td>1.000000</td>\n",
       "      <td>1.000000</td>\n",
       "      <td>1.270000</td>\n",
       "      <td>30.600000</td>\n",
       "      <td>11.910000</td>\n",
       "      <td>1.000000</td>\n",
       "      <td>1.000000</td>\n",
       "      <td>0.000000</td>\n",
       "      <td>1.000000</td>\n",
       "    </tr>\n",
       "    <tr>\n",
       "      <th>25%</th>\n",
       "      <td>5.000000</td>\n",
       "      <td>1.000000</td>\n",
       "      <td>2.000000</td>\n",
       "      <td>2.000000</td>\n",
       "      <td>1.600000</td>\n",
       "      <td>60.750000</td>\n",
       "      <td>22.200000</td>\n",
       "      <td>2.000000</td>\n",
       "      <td>96.000000</td>\n",
       "      <td>1.000000</td>\n",
       "      <td>1.000000</td>\n",
       "    </tr>\n",
       "    <tr>\n",
       "      <th>50%</th>\n",
       "      <td>9.000000</td>\n",
       "      <td>2.000000</td>\n",
       "      <td>2.000000</td>\n",
       "      <td>4.000000</td>\n",
       "      <td>1.676000</td>\n",
       "      <td>72.000000</td>\n",
       "      <td>25.310000</td>\n",
       "      <td>2.000000</td>\n",
       "      <td>96.000000</td>\n",
       "      <td>2.000000</td>\n",
       "      <td>1.000000</td>\n",
       "    </tr>\n",
       "    <tr>\n",
       "      <th>75%</th>\n",
       "      <td>12.000000</td>\n",
       "      <td>2.000000</td>\n",
       "      <td>2.000000</td>\n",
       "      <td>5.000000</td>\n",
       "      <td>1.778000</td>\n",
       "      <td>85.500000</td>\n",
       "      <td>28.890000</td>\n",
       "      <td>2.000000</td>\n",
       "      <td>96.000000</td>\n",
       "      <td>4.000000</td>\n",
       "      <td>2.000000</td>\n",
       "    </tr>\n",
       "    <tr>\n",
       "      <th>max</th>\n",
       "      <td>16.000000</td>\n",
       "      <td>2.000000</td>\n",
       "      <td>9.000000</td>\n",
       "      <td>99.000000</td>\n",
       "      <td>9.999000</td>\n",
       "      <td>999.990000</td>\n",
       "      <td>999.990000</td>\n",
       "      <td>9.000000</td>\n",
       "      <td>99.000000</td>\n",
       "      <td>99.000000</td>\n",
       "      <td>9.000000</td>\n",
       "    </tr>\n",
       "  </tbody>\n",
       "</table>\n",
       "</div>"
      ],
      "text/plain": [
       "                 age            sex         cancer         income  \\\n",
       "count  132221.000000  132221.000000  132221.000000  132221.000000   \n",
       "mean        8.685859       1.542092       1.987468      21.071388   \n",
       "std         4.187014       0.498227       0.210958      37.005055   \n",
       "min         1.000000       1.000000       1.000000       1.000000   \n",
       "25%         5.000000       1.000000       2.000000       2.000000   \n",
       "50%         9.000000       2.000000       2.000000       4.000000   \n",
       "75%        12.000000       2.000000       2.000000       5.000000   \n",
       "max        16.000000       2.000000       9.000000      99.000000   \n",
       "\n",
       "              height         weight            BMI  overnight_patient  \\\n",
       "count  132221.000000  132221.000000  132221.000000      132221.000000   \n",
       "mean        1.756112     101.120540      62.423490           1.910937   \n",
       "std         0.765397     159.312177     185.801218           0.332494   \n",
       "min         1.270000      30.600000      11.910000           1.000000   \n",
       "25%         1.600000      60.750000      22.200000           2.000000   \n",
       "50%         1.676000      72.000000      25.310000           2.000000   \n",
       "75%         1.778000      85.500000      28.890000           2.000000   \n",
       "max         9.999000     999.990000     999.990000           9.000000   \n",
       "\n",
       "           hosp_stay  physisian_visit        walking  \n",
       "count  132221.000000    132221.000000  132221.000000  \n",
       "mean       87.784308         3.667231       1.443666  \n",
       "std        25.920900         7.909545       1.125446  \n",
       "min         1.000000         0.000000       1.000000  \n",
       "25%        96.000000         1.000000       1.000000  \n",
       "50%        96.000000         2.000000       1.000000  \n",
       "75%        96.000000         4.000000       2.000000  \n",
       "max        99.000000        99.000000       9.000000  "
      ]
     },
     "execution_count": 21,
     "metadata": {},
     "output_type": "execute_result"
    }
   ],
   "source": [
    "df.describe()"
   ]
  },
  {
   "cell_type": "markdown",
   "metadata": {},
   "source": [
    "The mean age is 8.7 and income is 21. Clearly, all patients can not stay 96 days exactly. Something is wrong with this data. We need to check variable description which comes with data when we download it from database. In the next cell, I am going to explain the chosen variables."
   ]
  },
  {
   "cell_type": "markdown",
   "metadata": {},
   "source": [
    "## Variable descriptions:\n",
    "\n",
    "\n",
    "1. DHHEGAE - age \n",
    "     \n",
    "1 = 12-14, \n",
    "2 = 15-17, \n",
    "3 = 18-19, \n",
    "4 = 20-24, \n",
    "5 = 25-29, \n",
    "6 = 30-34, \n",
    "7 = 35-39, \n",
    "8 = 40-44, \n",
    "9 = 45-49, \n",
    "10 = 50-54, \n",
    "11 = 55-59, \n",
    "12 = 60-64, \n",
    "13 = 65-69, \n",
    "14 = 70-74, \n",
    "15 = 75-79, \n",
    "16 = 80 and more\n",
    "\n",
    "2. DHHE_SEX - sex\n",
    "\n",
    "1 - Male\n",
    "2 - Female\n",
    "\n",
    "3. CCCE_131 - cancer\n",
    "\n",
    "1 - yes\n",
    "2 - no\n",
    "6 - not applicable\n",
    "7 - do not know\n",
    "8 - refusal\n",
    "9 - not stated\n",
    "\n",
    "4. INCEGPER - Total houshold income\n",
    "\n",
    "1 =no income, \n",
    "2 = less than 15000, \n",
    "3 = 15000-29999, \n",
    "4 = 30000-49999, \n",
    "5 = 50000-79999, \n",
    "6 = 80000 or more. \n",
    "96 = not aplicable\n",
    "97 = do not know\n",
    "98 = refusal\n",
    "99 = not stated\n",
    "\n",
    "5. HWTEGHTM - height in metres\n",
    "\n",
    "1.27 - 1.257 to 1.282\n",
    "1.295 - 1.283 to 1.307\n",
    "...\n",
    "...\n",
    "Averages until 2.134\n",
    "But 9.999 - not stated\n",
    "\n",
    "6. HWTEGWTK - weight in kgs\n",
    "\n",
    "999.99 - not stated \n",
    "\n",
    "7. HWTEGBMI - BMI(Body Mass Index)\n",
    "\n",
    "999.99 - Not Stated - Pregnant women\n",
    "\n",
    "\n",
    "8. HCUE_01 - Overnight patient\n",
    "\n",
    "1 = yes\n",
    "2 = no\n",
    "6 = not applicable\n",
    "7 = do not know\n",
    "8 = refusal\n",
    "9 = not stated\n",
    "\n",
    "9. If yes in HCUE_01\n",
    "\n",
    "HCUEG01A - Number of nights as a patient\n",
    "\n",
    "1 = 1\n",
    "2 = 2\n",
    "3 = 3\n",
    "\n",
    "...\n",
    "\n",
    "30 = 30\n",
    "31 = 31 and more\n",
    "96 = not applicable (1 - Check Notes below)\n",
    "97 = do not know\n",
    "98 = refusal\n",
    "99 = not stated (2 - Check notes below) \n",
    "\n",
    "10. HCUEG02A - Physisian visit or number of consultations\n",
    "1 = 1\n",
    "2 = 2\n",
    "3 = 3\n",
    "...\n",
    "\n",
    "30 = 30\n",
    "31 = 31 and more\n",
    "96 = not applicable\n",
    "97 = do not know\n",
    "98 = refusal\n",
    "99 = not stated\n",
    "\n",
    "11. PACE_1A - Last three month walking\n",
    "\n",
    "1 = yes\n",
    "2 = no\n",
    "6 = not applicable\n",
    "7 = do not know\n",
    "8 = refusal\n",
    "9 = not stated (3 check Notes below)\n",
    "\n",
    "    Notes:\n",
    "\n",
    "(1) They said 'no' in HCUE_01. It implies that we need to replace them with 0.\n",
    "\n",
    "(2) From description of variables guide,in HCUEG01A 99 = 1 night stay, this is because these people have not been questioned in HCUE_01. There are couple of previous variables which also define hospital stay or number of nights as a patient. Thus it is useless to ask again this question\n",
    "\n",
    "(3) People did interview by proxy."
   ]
  },
  {
   "cell_type": "markdown",
   "metadata": {},
   "source": [
    "### Cleaning the data"
   ]
  },
  {
   "cell_type": "code",
   "execution_count": 28,
   "metadata": {},
   "outputs": [
    {
     "data": {
      "text/html": [
       "<div>\n",
       "<style scoped>\n",
       "    .dataframe tbody tr th:only-of-type {\n",
       "        vertical-align: middle;\n",
       "    }\n",
       "\n",
       "    .dataframe tbody tr th {\n",
       "        vertical-align: top;\n",
       "    }\n",
       "\n",
       "    .dataframe thead th {\n",
       "        text-align: right;\n",
       "    }\n",
       "</style>\n",
       "<table border=\"1\" class=\"dataframe\">\n",
       "  <thead>\n",
       "    <tr style=\"text-align: right;\">\n",
       "      <th></th>\n",
       "      <th>age</th>\n",
       "      <th>sex</th>\n",
       "      <th>cancer</th>\n",
       "      <th>income</th>\n",
       "      <th>height</th>\n",
       "      <th>weight</th>\n",
       "      <th>BMI</th>\n",
       "      <th>overnight_patient</th>\n",
       "      <th>hosp_stay</th>\n",
       "      <th>physisian_visit</th>\n",
       "      <th>walking</th>\n",
       "    </tr>\n",
       "  </thead>\n",
       "  <tbody>\n",
       "    <tr>\n",
       "      <th>0</th>\n",
       "      <td>27.0</td>\n",
       "      <td>1</td>\n",
       "      <td>0.0</td>\n",
       "      <td>40000.0</td>\n",
       "      <td>1.854</td>\n",
       "      <td>90.00</td>\n",
       "      <td>26.18</td>\n",
       "      <td>0.0</td>\n",
       "      <td>0</td>\n",
       "      <td>1.0</td>\n",
       "      <td>1.0</td>\n",
       "    </tr>\n",
       "    <tr>\n",
       "      <th>1</th>\n",
       "      <td>77.0</td>\n",
       "      <td>0</td>\n",
       "      <td>0.0</td>\n",
       "      <td>22500.0</td>\n",
       "      <td>1.575</td>\n",
       "      <td>56.70</td>\n",
       "      <td>22.86</td>\n",
       "      <td>0.0</td>\n",
       "      <td>0</td>\n",
       "      <td>3.0</td>\n",
       "      <td>1.0</td>\n",
       "    </tr>\n",
       "    <tr>\n",
       "      <th>2</th>\n",
       "      <td>32.0</td>\n",
       "      <td>1</td>\n",
       "      <td>0.0</td>\n",
       "      <td>22500.0</td>\n",
       "      <td>1.651</td>\n",
       "      <td>108.00</td>\n",
       "      <td>39.62</td>\n",
       "      <td>0.0</td>\n",
       "      <td>0</td>\n",
       "      <td>2.0</td>\n",
       "      <td>0.0</td>\n",
       "    </tr>\n",
       "    <tr>\n",
       "      <th>3</th>\n",
       "      <td>77.0</td>\n",
       "      <td>0</td>\n",
       "      <td>0.0</td>\n",
       "      <td>7500.0</td>\n",
       "      <td>1.575</td>\n",
       "      <td>69.75</td>\n",
       "      <td>28.12</td>\n",
       "      <td>0.0</td>\n",
       "      <td>0</td>\n",
       "      <td>1.0</td>\n",
       "      <td>1.0</td>\n",
       "    </tr>\n",
       "    <tr>\n",
       "      <th>4</th>\n",
       "      <td>80.0</td>\n",
       "      <td>0</td>\n",
       "      <td>0.0</td>\n",
       "      <td>NaN</td>\n",
       "      <td>1.575</td>\n",
       "      <td>58.50</td>\n",
       "      <td>23.58</td>\n",
       "      <td>0.0</td>\n",
       "      <td>0</td>\n",
       "      <td>2.0</td>\n",
       "      <td>1.0</td>\n",
       "    </tr>\n",
       "  </tbody>\n",
       "</table>\n",
       "</div>"
      ],
      "text/plain": [
       "    age  sex  cancer   income  height  weight    BMI  overnight_patient  \\\n",
       "0  27.0    1     0.0  40000.0   1.854   90.00  26.18                0.0   \n",
       "1  77.0    0     0.0  22500.0   1.575   56.70  22.86                0.0   \n",
       "2  32.0    1     0.0  22500.0   1.651  108.00  39.62                0.0   \n",
       "3  77.0    0     0.0   7500.0   1.575   69.75  28.12                0.0   \n",
       "4  80.0    0     0.0      NaN   1.575   58.50  23.58                0.0   \n",
       "\n",
       "   hosp_stay  physisian_visit  walking  \n",
       "0          0              1.0      1.0  \n",
       "1          0              3.0      1.0  \n",
       "2          0              2.0      0.0  \n",
       "3          0              1.0      1.0  \n",
       "4          0              2.0      1.0  "
      ]
     },
     "execution_count": 28,
     "metadata": {},
     "output_type": "execute_result"
    }
   ],
   "source": [
    "df.replace(to_replace = {\n",
    "    'age': {1:13, 2:16, 3:18.5, 4:22, 5:27, 6:32, 7:37, 8:42, 9:47, 10:52, 11:57, 12:62, 13:67, 14:72, 15:77, 16:80},\n",
    "    'sex': {2:0},\n",
    "    'cancer': {2:0, 6: np.NaN, 7:np.NaN, 8: np.NaN, 9:np.NaN},\n",
    "    'income': {1:0, 2:7500, 3:22500, 4:40000, 5:65000, 6:80000, 96: np.NaN, 97: np.NaN, 98: np.NaN, 99: np.NaN},\n",
    "    'height': {9.999 : np.NaN},\n",
    "    'weight': {999.99: np.NaN},\n",
    "    'BMI':{999.99: np.NaN},\n",
    "    'hosp_stay': {96:0, 97: np.NaN, 98: np.NaN, 99:1},\n",
    "    'overnight_patient': {2:0, 7:np.NaN, 8:np.NaN, 9:np.NaN},\n",
    "    'physisian_visit': {96:np.NaN, 97:np.NaN, 98:np.NaN, 99:np.NaN},\n",
    "    'walking':{2:0, 6: np.NaN, 7: np.NaN, 8:np.NaN, 9: np.NaN}}, inplace = True)\n",
    "df.head()"
   ]
  },
  {
   "cell_type": "code",
   "execution_count": 32,
   "metadata": {
    "scrolled": true
   },
   "outputs": [
    {
     "data": {
      "text/html": [
       "<div>\n",
       "<style scoped>\n",
       "    .dataframe tbody tr th:only-of-type {\n",
       "        vertical-align: middle;\n",
       "    }\n",
       "\n",
       "    .dataframe tbody tr th {\n",
       "        vertical-align: top;\n",
       "    }\n",
       "\n",
       "    .dataframe thead th {\n",
       "        text-align: right;\n",
       "    }\n",
       "</style>\n",
       "<table border=\"1\" class=\"dataframe\">\n",
       "  <thead>\n",
       "    <tr style=\"text-align: right;\">\n",
       "      <th></th>\n",
       "      <th>age</th>\n",
       "      <th>sex</th>\n",
       "      <th>cancer</th>\n",
       "      <th>income</th>\n",
       "      <th>height</th>\n",
       "      <th>weight</th>\n",
       "      <th>BMI</th>\n",
       "      <th>overnight_patient</th>\n",
       "      <th>hosp_stay</th>\n",
       "      <th>physisian_visit</th>\n",
       "      <th>walking</th>\n",
       "    </tr>\n",
       "  </thead>\n",
       "  <tbody>\n",
       "    <tr>\n",
       "      <th>count</th>\n",
       "      <td>132221.000000</td>\n",
       "      <td>132221.000000</td>\n",
       "      <td>132109.000000</td>\n",
       "      <td>107531.000000</td>\n",
       "      <td>131110.000000</td>\n",
       "      <td>128237.000000</td>\n",
       "      <td>127228.000000</td>\n",
       "      <td>132134.000000</td>\n",
       "      <td>132221.000000</td>\n",
       "      <td>131582.000000</td>\n",
       "      <td>129641.000000</td>\n",
       "    </tr>\n",
       "    <tr>\n",
       "      <th>mean</th>\n",
       "      <td>51.326979</td>\n",
       "      <td>0.457908</td>\n",
       "      <td>0.017311</td>\n",
       "      <td>31303.042843</td>\n",
       "      <td>1.686264</td>\n",
       "      <td>73.194934</td>\n",
       "      <td>25.629156</td>\n",
       "      <td>0.093163</td>\n",
       "      <td>0.631072</td>\n",
       "      <td>3.204268</td>\n",
       "      <td>0.701152</td>\n",
       "    </tr>\n",
       "    <tr>\n",
       "      <th>std</th>\n",
       "      <td>18.698909</td>\n",
       "      <td>0.498227</td>\n",
       "      <td>0.130430</td>\n",
       "      <td>23264.093623</td>\n",
       "      <td>0.100795</td>\n",
       "      <td>16.951823</td>\n",
       "      <td>5.066087</td>\n",
       "      <td>0.290662</td>\n",
       "      <td>3.201133</td>\n",
       "      <td>4.302844</td>\n",
       "      <td>0.457755</td>\n",
       "    </tr>\n",
       "    <tr>\n",
       "      <th>min</th>\n",
       "      <td>18.500000</td>\n",
       "      <td>0.000000</td>\n",
       "      <td>0.000000</td>\n",
       "      <td>0.000000</td>\n",
       "      <td>1.270000</td>\n",
       "      <td>30.600000</td>\n",
       "      <td>11.910000</td>\n",
       "      <td>0.000000</td>\n",
       "      <td>0.000000</td>\n",
       "      <td>0.000000</td>\n",
       "      <td>0.000000</td>\n",
       "    </tr>\n",
       "    <tr>\n",
       "      <th>25%</th>\n",
       "      <td>37.000000</td>\n",
       "      <td>0.000000</td>\n",
       "      <td>0.000000</td>\n",
       "      <td>7500.000000</td>\n",
       "      <td>1.600000</td>\n",
       "      <td>60.750000</td>\n",
       "      <td>22.130000</td>\n",
       "      <td>0.000000</td>\n",
       "      <td>0.000000</td>\n",
       "      <td>1.000000</td>\n",
       "      <td>0.000000</td>\n",
       "    </tr>\n",
       "    <tr>\n",
       "      <th>50%</th>\n",
       "      <td>52.000000</td>\n",
       "      <td>0.000000</td>\n",
       "      <td>0.000000</td>\n",
       "      <td>22500.000000</td>\n",
       "      <td>1.676000</td>\n",
       "      <td>72.000000</td>\n",
       "      <td>24.910000</td>\n",
       "      <td>0.000000</td>\n",
       "      <td>0.000000</td>\n",
       "      <td>2.000000</td>\n",
       "      <td>1.000000</td>\n",
       "    </tr>\n",
       "    <tr>\n",
       "      <th>75%</th>\n",
       "      <td>67.000000</td>\n",
       "      <td>1.000000</td>\n",
       "      <td>0.000000</td>\n",
       "      <td>40000.000000</td>\n",
       "      <td>1.753000</td>\n",
       "      <td>83.250000</td>\n",
       "      <td>28.270000</td>\n",
       "      <td>0.000000</td>\n",
       "      <td>0.000000</td>\n",
       "      <td>4.000000</td>\n",
       "      <td>1.000000</td>\n",
       "    </tr>\n",
       "    <tr>\n",
       "      <th>max</th>\n",
       "      <td>80.000000</td>\n",
       "      <td>1.000000</td>\n",
       "      <td>1.000000</td>\n",
       "      <td>80000.000000</td>\n",
       "      <td>1.956000</td>\n",
       "      <td>135.000000</td>\n",
       "      <td>54.960000</td>\n",
       "      <td>1.000000</td>\n",
       "      <td>31.000000</td>\n",
       "      <td>31.000000</td>\n",
       "      <td>1.000000</td>\n",
       "    </tr>\n",
       "  </tbody>\n",
       "</table>\n",
       "</div>"
      ],
      "text/plain": [
       "                 age            sex         cancer         income  \\\n",
       "count  132221.000000  132221.000000  132109.000000  107531.000000   \n",
       "mean       51.326979       0.457908       0.017311   31303.042843   \n",
       "std        18.698909       0.498227       0.130430   23264.093623   \n",
       "min        18.500000       0.000000       0.000000       0.000000   \n",
       "25%        37.000000       0.000000       0.000000    7500.000000   \n",
       "50%        52.000000       0.000000       0.000000   22500.000000   \n",
       "75%        67.000000       1.000000       0.000000   40000.000000   \n",
       "max        80.000000       1.000000       1.000000   80000.000000   \n",
       "\n",
       "              height         weight            BMI  overnight_patient  \\\n",
       "count  131110.000000  128237.000000  127228.000000      132134.000000   \n",
       "mean        1.686264      73.194934      25.629156           0.093163   \n",
       "std         0.100795      16.951823       5.066087           0.290662   \n",
       "min         1.270000      30.600000      11.910000           0.000000   \n",
       "25%         1.600000      60.750000      22.130000           0.000000   \n",
       "50%         1.676000      72.000000      24.910000           0.000000   \n",
       "75%         1.753000      83.250000      28.270000           0.000000   \n",
       "max         1.956000     135.000000      54.960000           1.000000   \n",
       "\n",
       "           hosp_stay  physisian_visit        walking  \n",
       "count  132221.000000    131582.000000  129641.000000  \n",
       "mean        0.631072         3.204268       0.701152  \n",
       "std         3.201133         4.302844       0.457755  \n",
       "min         0.000000         0.000000       0.000000  \n",
       "25%         0.000000         1.000000       0.000000  \n",
       "50%         0.000000         2.000000       1.000000  \n",
       "75%         0.000000         4.000000       1.000000  \n",
       "max        31.000000        31.000000       1.000000  "
      ]
     },
     "execution_count": 32,
     "metadata": {},
     "output_type": "execute_result"
    }
   ],
   "source": [
    "df.describe()"
   ]
  },
  {
   "cell_type": "markdown",
   "metadata": {},
   "source": [
    "As we see above, income, age and so on variables look normal after replacing them."
   ]
  },
  {
   "cell_type": "code",
   "execution_count": 29,
   "metadata": {},
   "outputs": [
    {
     "name": "stdout",
     "output_type": "stream",
     "text": [
      "<class 'pandas.core.frame.DataFrame'>\n",
      "RangeIndex: 132221 entries, 0 to 132220\n",
      "Data columns (total 11 columns):\n",
      " #   Column             Non-Null Count   Dtype  \n",
      "---  ------             --------------   -----  \n",
      " 0   age                132221 non-null  float64\n",
      " 1   sex                132221 non-null  int64  \n",
      " 2   cancer             132109 non-null  float64\n",
      " 3   income             107531 non-null  float64\n",
      " 4   height             131110 non-null  float64\n",
      " 5   weight             128237 non-null  float64\n",
      " 6   BMI                127228 non-null  float64\n",
      " 7   overnight_patient  132134 non-null  float64\n",
      " 8   hosp_stay          132221 non-null  int64  \n",
      " 9   physisian_visit    131582 non-null  float64\n",
      " 10  walking            129641 non-null  float64\n",
      "dtypes: float64(9), int64(2)\n",
      "memory usage: 11.1 MB\n"
     ]
    }
   ],
   "source": [
    "df.info()"
   ]
  },
  {
   "cell_type": "markdown",
   "metadata": {},
   "source": [
    "## Dealing with null values\n",
    "\n",
    "The number of null values are not considerable, that is why we can drop all the null values from our data.\n",
    "\n",
    "The alternative is to replace null values with the mean of variables, but in our case some variable are catigorical and it will not make a sence if we do it."
   ]
  },
  {
   "cell_type": "code",
   "execution_count": 34,
   "metadata": {},
   "outputs": [
    {
     "name": "stdout",
     "output_type": "stream",
     "text": [
      "<class 'pandas.core.frame.DataFrame'>\n",
      "Int64Index: 102770 entries, 0 to 132219\n",
      "Data columns (total 11 columns):\n",
      " #   Column             Non-Null Count   Dtype  \n",
      "---  ------             --------------   -----  \n",
      " 0   age                102770 non-null  float64\n",
      " 1   sex                102770 non-null  int64  \n",
      " 2   cancer             102770 non-null  float64\n",
      " 3   income             102770 non-null  float64\n",
      " 4   height             102770 non-null  float64\n",
      " 5   weight             102770 non-null  float64\n",
      " 6   BMI                102770 non-null  float64\n",
      " 7   overnight_patient  102770 non-null  float64\n",
      " 8   hosp_stay          102770 non-null  int64  \n",
      " 9   physisian_visit    102770 non-null  float64\n",
      " 10  walking            102770 non-null  float64\n",
      "dtypes: float64(9), int64(2)\n",
      "memory usage: 9.4 MB\n"
     ]
    }
   ],
   "source": [
    "df = df.dropna()\n",
    "df.info()"
   ]
  },
  {
   "cell_type": "code",
   "execution_count": 76,
   "metadata": {},
   "outputs": [
    {
     "data": {
      "text/html": [
       "<div>\n",
       "<style scoped>\n",
       "    .dataframe tbody tr th:only-of-type {\n",
       "        vertical-align: middle;\n",
       "    }\n",
       "\n",
       "    .dataframe tbody tr th {\n",
       "        vertical-align: top;\n",
       "    }\n",
       "\n",
       "    .dataframe thead th {\n",
       "        text-align: right;\n",
       "    }\n",
       "</style>\n",
       "<table border=\"1\" class=\"dataframe\">\n",
       "  <thead>\n",
       "    <tr style=\"text-align: right;\">\n",
       "      <th></th>\n",
       "      <th>age</th>\n",
       "      <th>sex</th>\n",
       "      <th>cancer</th>\n",
       "      <th>income</th>\n",
       "      <th>height</th>\n",
       "      <th>weight</th>\n",
       "      <th>BMI</th>\n",
       "      <th>overnight_patient</th>\n",
       "      <th>hosp_stay</th>\n",
       "      <th>physisian_visit</th>\n",
       "      <th>walking</th>\n",
       "      <th>age_groups</th>\n",
       "    </tr>\n",
       "  </thead>\n",
       "  <tbody>\n",
       "    <tr>\n",
       "      <th>count</th>\n",
       "      <td>102770.000000</td>\n",
       "      <td>102770.000000</td>\n",
       "      <td>102770.000000</td>\n",
       "      <td>102770.000000</td>\n",
       "      <td>102770.00000</td>\n",
       "      <td>102770.000000</td>\n",
       "      <td>102770.000000</td>\n",
       "      <td>102770.000000</td>\n",
       "      <td>102770.000000</td>\n",
       "      <td>102770.000000</td>\n",
       "      <td>102770.000000</td>\n",
       "      <td>102770.000000</td>\n",
       "    </tr>\n",
       "    <tr>\n",
       "      <th>mean</th>\n",
       "      <td>49.658037</td>\n",
       "      <td>0.470390</td>\n",
       "      <td>0.017573</td>\n",
       "      <td>31676.072784</td>\n",
       "      <td>1.69282</td>\n",
       "      <td>74.683139</td>\n",
       "      <td>25.979663</td>\n",
       "      <td>0.091865</td>\n",
       "      <td>0.592809</td>\n",
       "      <td>3.207969</td>\n",
       "      <td>0.708417</td>\n",
       "      <td>2.078223</td>\n",
       "    </tr>\n",
       "    <tr>\n",
       "      <th>std</th>\n",
       "      <td>18.243603</td>\n",
       "      <td>0.499125</td>\n",
       "      <td>0.131395</td>\n",
       "      <td>23313.296703</td>\n",
       "      <td>0.09926</td>\n",
       "      <td>16.595245</td>\n",
       "      <td>5.019772</td>\n",
       "      <td>0.288837</td>\n",
       "      <td>3.030754</td>\n",
       "      <td>4.276634</td>\n",
       "      <td>0.454494</td>\n",
       "      <td>0.634932</td>\n",
       "    </tr>\n",
       "    <tr>\n",
       "      <th>min</th>\n",
       "      <td>18.500000</td>\n",
       "      <td>0.000000</td>\n",
       "      <td>0.000000</td>\n",
       "      <td>0.000000</td>\n",
       "      <td>1.39700</td>\n",
       "      <td>38.700000</td>\n",
       "      <td>12.590000</td>\n",
       "      <td>0.000000</td>\n",
       "      <td>0.000000</td>\n",
       "      <td>0.000000</td>\n",
       "      <td>0.000000</td>\n",
       "      <td>1.000000</td>\n",
       "    </tr>\n",
       "    <tr>\n",
       "      <th>25%</th>\n",
       "      <td>32.000000</td>\n",
       "      <td>0.000000</td>\n",
       "      <td>0.000000</td>\n",
       "      <td>7500.000000</td>\n",
       "      <td>1.62600</td>\n",
       "      <td>63.000000</td>\n",
       "      <td>22.500000</td>\n",
       "      <td>0.000000</td>\n",
       "      <td>0.000000</td>\n",
       "      <td>1.000000</td>\n",
       "      <td>0.000000</td>\n",
       "      <td>2.000000</td>\n",
       "    </tr>\n",
       "    <tr>\n",
       "      <th>50%</th>\n",
       "      <td>47.000000</td>\n",
       "      <td>0.000000</td>\n",
       "      <td>0.000000</td>\n",
       "      <td>22500.000000</td>\n",
       "      <td>1.70200</td>\n",
       "      <td>72.000000</td>\n",
       "      <td>25.400000</td>\n",
       "      <td>0.000000</td>\n",
       "      <td>0.000000</td>\n",
       "      <td>2.000000</td>\n",
       "      <td>1.000000</td>\n",
       "      <td>2.000000</td>\n",
       "    </tr>\n",
       "    <tr>\n",
       "      <th>75%</th>\n",
       "      <td>62.000000</td>\n",
       "      <td>1.000000</td>\n",
       "      <td>0.000000</td>\n",
       "      <td>40000.000000</td>\n",
       "      <td>1.77800</td>\n",
       "      <td>85.225000</td>\n",
       "      <td>28.670000</td>\n",
       "      <td>0.000000</td>\n",
       "      <td>0.000000</td>\n",
       "      <td>4.000000</td>\n",
       "      <td>1.000000</td>\n",
       "      <td>2.000000</td>\n",
       "    </tr>\n",
       "    <tr>\n",
       "      <th>max</th>\n",
       "      <td>80.000000</td>\n",
       "      <td>1.000000</td>\n",
       "      <td>1.000000</td>\n",
       "      <td>80000.000000</td>\n",
       "      <td>1.95600</td>\n",
       "      <td>135.000000</td>\n",
       "      <td>54.960000</td>\n",
       "      <td>1.000000</td>\n",
       "      <td>31.000000</td>\n",
       "      <td>31.000000</td>\n",
       "      <td>1.000000</td>\n",
       "      <td>3.000000</td>\n",
       "    </tr>\n",
       "  </tbody>\n",
       "</table>\n",
       "</div>"
      ],
      "text/plain": [
       "                 age            sex         cancer         income  \\\n",
       "count  102770.000000  102770.000000  102770.000000  102770.000000   \n",
       "mean       49.658037       0.470390       0.017573   31676.072784   \n",
       "std        18.243603       0.499125       0.131395   23313.296703   \n",
       "min        18.500000       0.000000       0.000000       0.000000   \n",
       "25%        32.000000       0.000000       0.000000    7500.000000   \n",
       "50%        47.000000       0.000000       0.000000   22500.000000   \n",
       "75%        62.000000       1.000000       0.000000   40000.000000   \n",
       "max        80.000000       1.000000       1.000000   80000.000000   \n",
       "\n",
       "             height         weight            BMI  overnight_patient  \\\n",
       "count  102770.00000  102770.000000  102770.000000      102770.000000   \n",
       "mean        1.69282      74.683139      25.979663           0.091865   \n",
       "std         0.09926      16.595245       5.019772           0.288837   \n",
       "min         1.39700      38.700000      12.590000           0.000000   \n",
       "25%         1.62600      63.000000      22.500000           0.000000   \n",
       "50%         1.70200      72.000000      25.400000           0.000000   \n",
       "75%         1.77800      85.225000      28.670000           0.000000   \n",
       "max         1.95600     135.000000      54.960000           1.000000   \n",
       "\n",
       "           hosp_stay  physisian_visit        walking     age_groups  \n",
       "count  102770.000000    102770.000000  102770.000000  102770.000000  \n",
       "mean        0.592809         3.207969       0.708417       2.078223  \n",
       "std         3.030754         4.276634       0.454494       0.634932  \n",
       "min         0.000000         0.000000       0.000000       1.000000  \n",
       "25%         0.000000         1.000000       0.000000       2.000000  \n",
       "50%         0.000000         2.000000       1.000000       2.000000  \n",
       "75%         0.000000         4.000000       1.000000       2.000000  \n",
       "max        31.000000        31.000000       1.000000       3.000000  "
      ]
     },
     "execution_count": 76,
     "metadata": {},
     "output_type": "execute_result"
    }
   ],
   "source": [
    "df.describe()"
   ]
  },
  {
   "cell_type": "markdown",
   "metadata": {},
   "source": [
    "### Question 1\n",
    "\n",
    "#### Average hospital stay and physisian visit in Canada in 2005."
   ]
  },
  {
   "cell_type": "code",
   "execution_count": 37,
   "metadata": {},
   "outputs": [
    {
     "data": {
      "text/html": [
       "<div>\n",
       "<style scoped>\n",
       "    .dataframe tbody tr th:only-of-type {\n",
       "        vertical-align: middle;\n",
       "    }\n",
       "\n",
       "    .dataframe tbody tr th {\n",
       "        vertical-align: top;\n",
       "    }\n",
       "\n",
       "    .dataframe thead th {\n",
       "        text-align: right;\n",
       "    }\n",
       "</style>\n",
       "<table border=\"1\" class=\"dataframe\">\n",
       "  <thead>\n",
       "    <tr style=\"text-align: right;\">\n",
       "      <th></th>\n",
       "      <th>hosp_stay</th>\n",
       "      <th>physisian_visit</th>\n",
       "    </tr>\n",
       "  </thead>\n",
       "  <tbody>\n",
       "    <tr>\n",
       "      <th>count</th>\n",
       "      <td>102770.000000</td>\n",
       "      <td>102770.000000</td>\n",
       "    </tr>\n",
       "    <tr>\n",
       "      <th>mean</th>\n",
       "      <td>0.592809</td>\n",
       "      <td>3.207969</td>\n",
       "    </tr>\n",
       "    <tr>\n",
       "      <th>std</th>\n",
       "      <td>3.030754</td>\n",
       "      <td>4.276634</td>\n",
       "    </tr>\n",
       "    <tr>\n",
       "      <th>min</th>\n",
       "      <td>0.000000</td>\n",
       "      <td>0.000000</td>\n",
       "    </tr>\n",
       "    <tr>\n",
       "      <th>25%</th>\n",
       "      <td>0.000000</td>\n",
       "      <td>1.000000</td>\n",
       "    </tr>\n",
       "    <tr>\n",
       "      <th>50%</th>\n",
       "      <td>0.000000</td>\n",
       "      <td>2.000000</td>\n",
       "    </tr>\n",
       "    <tr>\n",
       "      <th>75%</th>\n",
       "      <td>0.000000</td>\n",
       "      <td>4.000000</td>\n",
       "    </tr>\n",
       "    <tr>\n",
       "      <th>max</th>\n",
       "      <td>31.000000</td>\n",
       "      <td>31.000000</td>\n",
       "    </tr>\n",
       "  </tbody>\n",
       "</table>\n",
       "</div>"
      ],
      "text/plain": [
       "           hosp_stay  physisian_visit\n",
       "count  102770.000000    102770.000000\n",
       "mean        0.592809         3.207969\n",
       "std         3.030754         4.276634\n",
       "min         0.000000         0.000000\n",
       "25%         0.000000         1.000000\n",
       "50%         0.000000         2.000000\n",
       "75%         0.000000         4.000000\n",
       "max        31.000000        31.000000"
      ]
     },
     "execution_count": 37,
     "metadata": {},
     "output_type": "execute_result"
    }
   ],
   "source": [
    "df[['hosp_stay', 'physisian_visit']].describe()"
   ]
  },
  {
   "cell_type": "code",
   "execution_count": 69,
   "metadata": {},
   "outputs": [
    {
     "data": {
      "text/plain": [
       "array([[<matplotlib.axes._subplots.AxesSubplot object at 0x1a220d52d0>]],\n",
       "      dtype=object)"
      ]
     },
     "execution_count": 69,
     "metadata": {},
     "output_type": "execute_result"
    },
    {
     "data": {
      "image/png": "[encoded data removed]",
      "text/plain": [
       "<Figure size 360x288 with 1 Axes>"
      ]
     },
     "metadata": {
      "needs_background": "light"
     },
     "output_type": "display_data"
    },
    {
     "data": {
      "image/png": "[encoded data removed]",
      "text/plain": [
       "<Figure size 360x288 with 1 Axes>"
      ]
     },
     "metadata": {
      "needs_background": "light"
     },
     "output_type": "display_data"
    }
   ],
   "source": [
    "df.hist(column = 'physisian_visit')\n",
    "df.hist(column = 'hosp_stay')"
   ]
  },
  {
   "cell_type": "markdown",
   "metadata": {},
   "source": [
    "### Question 2\n",
    "\n",
    "#### Defining hospital stay and physician visit by age groups\n",
    "\n",
    "In order to find out the problem above by age groups, we need to create new variable which is catigorical and has only three values such as 1: 30 years and below, 2: 30 to 64 and 3: 65 and more.\n"
   ]
  },
  {
   "cell_type": "code",
   "execution_count": 38,
   "metadata": {},
   "outputs": [
    {
     "name": "stderr",
     "output_type": "stream",
     "text": [
      "/opt/anaconda3/lib/python3.7/site-packages/ipykernel_launcher.py:1: SettingWithCopyWarning: \n",
      "A value is trying to be set on a copy of a slice from a DataFrame.\n",
      "Try using .loc[row_indexer,col_indexer] = value instead\n",
      "\n",
      "See the caveats in the documentation: https://pandas.pydata.org/pandas-docs/stable/user_guide/indexing.html#returning-a-view-versus-a-copy\n",
      "  \"\"\"Entry point for launching an IPython kernel.\n"
     ]
    },
    {
     "data": {
      "text/html": [
       "<div>\n",
       "<style scoped>\n",
       "    .dataframe tbody tr th:only-of-type {\n",
       "        vertical-align: middle;\n",
       "    }\n",
       "\n",
       "    .dataframe tbody tr th {\n",
       "        vertical-align: top;\n",
       "    }\n",
       "\n",
       "    .dataframe thead th {\n",
       "        text-align: right;\n",
       "    }\n",
       "</style>\n",
       "<table border=\"1\" class=\"dataframe\">\n",
       "  <thead>\n",
       "    <tr style=\"text-align: right;\">\n",
       "      <th></th>\n",
       "      <th>age</th>\n",
       "      <th>sex</th>\n",
       "      <th>cancer</th>\n",
       "      <th>income</th>\n",
       "      <th>height</th>\n",
       "      <th>weight</th>\n",
       "      <th>BMI</th>\n",
       "      <th>overnight_patient</th>\n",
       "      <th>hosp_stay</th>\n",
       "      <th>physisian_visit</th>\n",
       "      <th>walking</th>\n",
       "      <th>age_groups</th>\n",
       "    </tr>\n",
       "  </thead>\n",
       "  <tbody>\n",
       "    <tr>\n",
       "      <th>0</th>\n",
       "      <td>27.0</td>\n",
       "      <td>1</td>\n",
       "      <td>0.0</td>\n",
       "      <td>40000.0</td>\n",
       "      <td>1.854</td>\n",
       "      <td>90.00</td>\n",
       "      <td>26.18</td>\n",
       "      <td>0.0</td>\n",
       "      <td>0</td>\n",
       "      <td>1.0</td>\n",
       "      <td>1.0</td>\n",
       "      <td>1.0</td>\n",
       "    </tr>\n",
       "    <tr>\n",
       "      <th>1</th>\n",
       "      <td>77.0</td>\n",
       "      <td>0</td>\n",
       "      <td>0.0</td>\n",
       "      <td>22500.0</td>\n",
       "      <td>1.575</td>\n",
       "      <td>56.70</td>\n",
       "      <td>22.86</td>\n",
       "      <td>0.0</td>\n",
       "      <td>0</td>\n",
       "      <td>3.0</td>\n",
       "      <td>1.0</td>\n",
       "      <td>3.0</td>\n",
       "    </tr>\n",
       "    <tr>\n",
       "      <th>2</th>\n",
       "      <td>32.0</td>\n",
       "      <td>1</td>\n",
       "      <td>0.0</td>\n",
       "      <td>22500.0</td>\n",
       "      <td>1.651</td>\n",
       "      <td>108.00</td>\n",
       "      <td>39.62</td>\n",
       "      <td>0.0</td>\n",
       "      <td>0</td>\n",
       "      <td>2.0</td>\n",
       "      <td>0.0</td>\n",
       "      <td>2.0</td>\n",
       "    </tr>\n",
       "    <tr>\n",
       "      <th>3</th>\n",
       "      <td>77.0</td>\n",
       "      <td>0</td>\n",
       "      <td>0.0</td>\n",
       "      <td>7500.0</td>\n",
       "      <td>1.575</td>\n",
       "      <td>69.75</td>\n",
       "      <td>28.12</td>\n",
       "      <td>0.0</td>\n",
       "      <td>0</td>\n",
       "      <td>1.0</td>\n",
       "      <td>1.0</td>\n",
       "      <td>3.0</td>\n",
       "    </tr>\n",
       "    <tr>\n",
       "      <th>7</th>\n",
       "      <td>32.0</td>\n",
       "      <td>1</td>\n",
       "      <td>0.0</td>\n",
       "      <td>40000.0</td>\n",
       "      <td>1.778</td>\n",
       "      <td>60.30</td>\n",
       "      <td>19.07</td>\n",
       "      <td>0.0</td>\n",
       "      <td>0</td>\n",
       "      <td>0.0</td>\n",
       "      <td>1.0</td>\n",
       "      <td>2.0</td>\n",
       "    </tr>\n",
       "  </tbody>\n",
       "</table>\n",
       "</div>"
      ],
      "text/plain": [
       "    age  sex  cancer   income  height  weight    BMI  overnight_patient  \\\n",
       "0  27.0    1     0.0  40000.0   1.854   90.00  26.18                0.0   \n",
       "1  77.0    0     0.0  22500.0   1.575   56.70  22.86                0.0   \n",
       "2  32.0    1     0.0  22500.0   1.651  108.00  39.62                0.0   \n",
       "3  77.0    0     0.0   7500.0   1.575   69.75  28.12                0.0   \n",
       "7  32.0    1     0.0  40000.0   1.778   60.30  19.07                0.0   \n",
       "\n",
       "   hosp_stay  physisian_visit  walking  age_groups  \n",
       "0          0              1.0      1.0         1.0  \n",
       "1          0              3.0      1.0         3.0  \n",
       "2          0              2.0      0.0         2.0  \n",
       "3          0              1.0      1.0         3.0  \n",
       "7          0              0.0      1.0         2.0  "
      ]
     },
     "execution_count": 38,
     "metadata": {},
     "output_type": "execute_result"
    }
   ],
   "source": [
    "df['age_groups'] = df['age'].replace([13,16,18.5,22,27,32,37,42,47,52,57,62,67,72,77,80], [1,1,1,1,1,2,2,2,2,2,2,2,3,3,3,3])\n",
    "df.head()"
   ]
  },
  {
   "cell_type": "code",
   "execution_count": 40,
   "metadata": {},
   "outputs": [
    {
     "data": {
      "text/html": [
       "<div>\n",
       "<style scoped>\n",
       "    .dataframe tbody tr th:only-of-type {\n",
       "        vertical-align: middle;\n",
       "    }\n",
       "\n",
       "    .dataframe tbody tr th {\n",
       "        vertical-align: top;\n",
       "    }\n",
       "\n",
       "    .dataframe thead th {\n",
       "        text-align: right;\n",
       "    }\n",
       "</style>\n",
       "<table border=\"1\" class=\"dataframe\">\n",
       "  <thead>\n",
       "    <tr style=\"text-align: right;\">\n",
       "      <th></th>\n",
       "      <th>hosp_stay</th>\n",
       "      <th>physisian_visit</th>\n",
       "      <th>cancer</th>\n",
       "    </tr>\n",
       "    <tr>\n",
       "      <th>age_groups</th>\n",
       "      <th></th>\n",
       "      <th></th>\n",
       "      <th></th>\n",
       "    </tr>\n",
       "  </thead>\n",
       "  <tbody>\n",
       "    <tr>\n",
       "      <th>1.0</th>\n",
       "      <td>0.347737</td>\n",
       "      <td>2.816578</td>\n",
       "      <td>0.001822</td>\n",
       "    </tr>\n",
       "    <tr>\n",
       "      <th>2.0</th>\n",
       "      <td>0.455733</td>\n",
       "      <td>3.047273</td>\n",
       "      <td>0.012321</td>\n",
       "    </tr>\n",
       "    <tr>\n",
       "      <th>3.0</th>\n",
       "      <td>1.091461</td>\n",
       "      <td>3.863228</td>\n",
       "      <td>0.041000</td>\n",
       "    </tr>\n",
       "  </tbody>\n",
       "</table>\n",
       "</div>"
      ],
      "text/plain": [
       "            hosp_stay  physisian_visit    cancer\n",
       "age_groups                                      \n",
       "1.0          0.347737         2.816578  0.001822\n",
       "2.0          0.455733         3.047273  0.012321\n",
       "3.0          1.091461         3.863228  0.041000"
      ]
     },
     "execution_count": 40,
     "metadata": {},
     "output_type": "execute_result"
    }
   ],
   "source": [
    "#Defining problem by age groups\n",
    "df[['hosp_stay','physisian_visit', 'cancer']].groupby(df['age_groups']).mean()"
   ]
  },
  {
   "cell_type": "markdown",
   "metadata": {},
   "source": [
    "As we see from above,  If the age of  groups are increasing, cancer, hospital stay, and physisian visits rises as well. "
   ]
  },
  {
   "cell_type": "markdown",
   "metadata": {},
   "source": [
    "### Question 3\n",
    "\n",
    "#### Linear regression\n",
    "Let's say healthcare demand is hospital stay. \n",
    "\n",
    "hosp_stay = b + income * b1 + walking * b2 + income * b3 + u. We need to find b1, b2 and b3."
   ]
  },
  {
   "cell_type": "code",
   "execution_count": 42,
   "metadata": {},
   "outputs": [
    {
     "data": {
      "text/html": [
       "<div>\n",
       "<style scoped>\n",
       "    .dataframe tbody tr th:only-of-type {\n",
       "        vertical-align: middle;\n",
       "    }\n",
       "\n",
       "    .dataframe tbody tr th {\n",
       "        vertical-align: top;\n",
       "    }\n",
       "\n",
       "    .dataframe thead th {\n",
       "        text-align: right;\n",
       "    }\n",
       "</style>\n",
       "<table border=\"1\" class=\"dataframe\">\n",
       "  <thead>\n",
       "    <tr style=\"text-align: right;\">\n",
       "      <th></th>\n",
       "      <th>hosp_stay</th>\n",
       "      <th>age</th>\n",
       "      <th>income</th>\n",
       "      <th>walking</th>\n",
       "    </tr>\n",
       "  </thead>\n",
       "  <tbody>\n",
       "    <tr>\n",
       "      <th>hosp_stay</th>\n",
       "      <td>1.000000</td>\n",
       "      <td>0.093003</td>\n",
       "      <td>-0.069842</td>\n",
       "      <td>-0.034373</td>\n",
       "    </tr>\n",
       "    <tr>\n",
       "      <th>age</th>\n",
       "      <td>0.093003</td>\n",
       "      <td>1.000000</td>\n",
       "      <td>-0.142848</td>\n",
       "      <td>-0.040870</td>\n",
       "    </tr>\n",
       "    <tr>\n",
       "      <th>income</th>\n",
       "      <td>-0.069842</td>\n",
       "      <td>-0.142848</td>\n",
       "      <td>1.000000</td>\n",
       "      <td>0.026196</td>\n",
       "    </tr>\n",
       "    <tr>\n",
       "      <th>walking</th>\n",
       "      <td>-0.034373</td>\n",
       "      <td>-0.040870</td>\n",
       "      <td>0.026196</td>\n",
       "      <td>1.000000</td>\n",
       "    </tr>\n",
       "  </tbody>\n",
       "</table>\n",
       "</div>"
      ],
      "text/plain": [
       "           hosp_stay       age    income   walking\n",
       "hosp_stay   1.000000  0.093003 -0.069842 -0.034373\n",
       "age         0.093003  1.000000 -0.142848 -0.040870\n",
       "income     -0.069842 -0.142848  1.000000  0.026196\n",
       "walking    -0.034373 -0.040870  0.026196  1.000000"
      ]
     },
     "execution_count": 42,
     "metadata": {},
     "output_type": "execute_result"
    }
   ],
   "source": [
    "# First let'check Pearson correlation\n",
    "df[['hosp_stay', 'age', 'income', 'walking']].corr()\n",
    "# The results below do not show strong correlation"
   ]
  },
  {
   "cell_type": "code",
   "execution_count": 75,
   "metadata": {},
   "outputs": [
    {
     "data": {
      "text/plain": [
       "<matplotlib.axes._subplots.AxesSubplot at 0x1a22777c90>"
      ]
     },
     "execution_count": 75,
     "metadata": {},
     "output_type": "execute_result"
    },
    {
     "data": {
      "image/png": "[encoded data removed]",
      "text/plain": [
       "<Figure size 360x288 with 1 Axes>"
      ]
     },
     "metadata": {
      "needs_background": "light"
     },
     "output_type": "display_data"
    }
   ],
   "source": [
    "import seaborn as sb\n",
    "m = df[['income']]\n",
    "n = df['hosp_stay']\n",
    "sb.regplot(m,n, data = df)"
   ]
  },
  {
   "cell_type": "code",
   "execution_count": 53,
   "metadata": {},
   "outputs": [
    {
     "data": {
      "text/html": [
       "<table class=\"simpletable\">\n",
       "<caption>OLS Regression Results</caption>\n",
       "<tr>\n",
       "  <th>Dep. Variable:</th>        <td>hosp_stay</td>    <th>  R-squared (uncentered):</th>       <td>   0.049</td>  \n",
       "</tr>\n",
       "<tr>\n",
       "  <th>Model:</th>                   <td>OLS</td>       <th>  Adj. R-squared (uncentered):</th>  <td>   0.049</td>  \n",
       "</tr>\n",
       "<tr>\n",
       "  <th>Method:</th>             <td>Least Squares</td>  <th>  F-statistic:       </th>           <td>   1750.</td>  \n",
       "</tr>\n",
       "<tr>\n",
       "  <th>Date:</th>             <td>Mon, 01 Jun 2020</td> <th>  Prob (F-statistic):</th>            <td>  0.00</td>   \n",
       "</tr>\n",
       "<tr>\n",
       "  <th>Time:</th>                 <td>17:10:57</td>     <th>  Log-Likelihood:    </th>          <td>-2.5915e+05</td>\n",
       "</tr>\n",
       "<tr>\n",
       "  <th>No. Observations:</th>      <td>102770</td>      <th>  AIC:               </th>           <td>5.183e+05</td> \n",
       "</tr>\n",
       "<tr>\n",
       "  <th>Df Residuals:</th>          <td>102767</td>      <th>  BIC:               </th>           <td>5.183e+05</td> \n",
       "</tr>\n",
       "<tr>\n",
       "  <th>Df Model:</th>              <td>     3</td>      <th>                     </th>               <td> </td>     \n",
       "</tr>\n",
       "<tr>\n",
       "  <th>Covariance Type:</th>      <td>nonrobust</td>    <th>                     </th>               <td> </td>     \n",
       "</tr>\n",
       "</table>\n",
       "<table class=\"simpletable\">\n",
       "<tr>\n",
       "     <td></td>        <th>coef</th>     <th>std err</th>      <th>t</th>      <th>P>|t|</th>  <th>[0.025</th>    <th>0.975]</th>  \n",
       "</tr>\n",
       "<tr>\n",
       "  <th>age</th>     <td>    0.0171</td> <td>    0.000</td> <td>   54.583</td> <td> 0.000</td> <td>    0.017</td> <td>    0.018</td>\n",
       "</tr>\n",
       "<tr>\n",
       "  <th>income</th>  <td>-5.961e-06</td> <td> 3.62e-07</td> <td>  -16.477</td> <td> 0.000</td> <td>-6.67e-06</td> <td>-5.25e-06</td>\n",
       "</tr>\n",
       "<tr>\n",
       "  <th>walking</th> <td>   -0.1261</td> <td>    0.019</td> <td>   -6.765</td> <td> 0.000</td> <td>   -0.163</td> <td>   -0.090</td>\n",
       "</tr>\n",
       "</table>\n",
       "<table class=\"simpletable\">\n",
       "<tr>\n",
       "  <th>Omnibus:</th>       <td>132019.994</td> <th>  Durbin-Watson:     </th>   <td>   2.000</td>  \n",
       "</tr>\n",
       "<tr>\n",
       "  <th>Prob(Omnibus):</th>   <td> 0.000</td>   <th>  Jarque-Bera (JB):  </th> <td>17611281.868</td>\n",
       "</tr>\n",
       "<tr>\n",
       "  <th>Skew:</th>            <td> 7.394</td>   <th>  Prob(JB):          </th>   <td>    0.00</td>  \n",
       "</tr>\n",
       "<tr>\n",
       "  <th>Kurtosis:</th>        <td>65.403</td>   <th>  Cond. No.          </th>   <td>7.80e+04</td>  \n",
       "</tr>\n",
       "</table><br/><br/>Warnings:<br/>[1] Standard Errors assume that the covariance matrix of the errors is correctly specified.<br/>[2] The condition number is large, 7.8e+04. This might indicate that there are<br/>strong multicollinearity or other numerical problems."
      ],
      "text/plain": [
       "<class 'statsmodels.iolib.summary.Summary'>\n",
       "\"\"\"\n",
       "                                 OLS Regression Results                                \n",
       "=======================================================================================\n",
       "Dep. Variable:              hosp_stay   R-squared (uncentered):                   0.049\n",
       "Model:                            OLS   Adj. R-squared (uncentered):              0.049\n",
       "Method:                 Least Squares   F-statistic:                              1750.\n",
       "Date:                Mon, 01 Jun 2020   Prob (F-statistic):                        0.00\n",
       "Time:                        17:10:57   Log-Likelihood:                     -2.5915e+05\n",
       "No. Observations:              102770   AIC:                                  5.183e+05\n",
       "Df Residuals:                  102767   BIC:                                  5.183e+05\n",
       "Df Model:                           3                                                  \n",
       "Covariance Type:            nonrobust                                                  \n",
       "==============================================================================\n",
       "                 coef    std err          t      P>|t|      [0.025      0.975]\n",
       "------------------------------------------------------------------------------\n",
       "age            0.0171      0.000     54.583      0.000       0.017       0.018\n",
       "income     -5.961e-06   3.62e-07    -16.477      0.000   -6.67e-06   -5.25e-06\n",
       "walking       -0.1261      0.019     -6.765      0.000      -0.163      -0.090\n",
       "==============================================================================\n",
       "Omnibus:                   132019.994   Durbin-Watson:                   2.000\n",
       "Prob(Omnibus):                  0.000   Jarque-Bera (JB):         17611281.868\n",
       "Skew:                           7.394   Prob(JB):                         0.00\n",
       "Kurtosis:                      65.403   Cond. No.                     7.80e+04\n",
       "==============================================================================\n",
       "\n",
       "Warnings:\n",
       "[1] Standard Errors assume that the covariance matrix of the errors is correctly specified.\n",
       "[2] The condition number is large, 7.8e+04. This might indicate that there are\n",
       "strong multicollinearity or other numerical problems.\n",
       "\"\"\""
      ]
     },
     "execution_count": 53,
     "metadata": {},
     "output_type": "execute_result"
    }
   ],
   "source": [
    "## Linear regressin by Stats Models\n",
    "import statsmodels.api as sm\n",
    "\n",
    "\n",
    "X = df[['age', 'income', 'walking']]\n",
    "y = df['hosp_stay']\n",
    "\n",
    "model = sm.OLS(y, X).fit()\n",
    "predictions = model.predict(X)\n",
    "\n",
    "model.summary()"
   ]
  },
  {
   "cell_type": "markdown",
   "metadata": {},
   "source": [
    "As we see p values are statistically significant, it enables us to say that if age increases hospital stay increases as well. On the contrary, there is negative correlation between income and hospital stay. The same patterns can be seen for walking variables."
   ]
  },
  {
   "cell_type": "markdown",
   "metadata": {},
   "source": [
    "### Question 4\n",
    "\n",
    "Defining cancer by age, BMI and income\n",
    "\n",
    "K nearest neighbor model is used"
   ]
  },
  {
   "cell_type": "code",
   "execution_count": 54,
   "metadata": {},
   "outputs": [],
   "source": [
    "# Defining dependent and target variables\n",
    "X1 = df[['age', 'income', 'BMI']] # independent variables\n",
    "y1 = df['cancer'] # Binary target variable\n"
   ]
  },
  {
   "cell_type": "markdown",
   "metadata": {},
   "source": [
    "#### Normalizing the data\n",
    "\n",
    "This process gives data zero mean and unit variance"
   ]
  },
  {
   "cell_type": "code",
   "execution_count": 56,
   "metadata": {},
   "outputs": [],
   "source": [
    "# importing libraries\n",
    "from sklearn import preprocessing\n"
   ]
  },
  {
   "cell_type": "code",
   "execution_count": 59,
   "metadata": {},
   "outputs": [
    {
     "data": {
      "text/plain": [
       "array([[-1.24197764,  0.35704808,  0.03990975],\n",
       "       [ 1.49872232, -0.39360016, -0.62147814],\n",
       "       [-0.96790764, -0.39360016,  2.71733542],\n",
       "       [ 1.49872232, -1.03701294,  0.4263834 ],\n",
       "       [-0.96790764,  0.35704808, -1.37649624]])"
      ]
     },
     "execution_count": 59,
     "metadata": {},
     "output_type": "execute_result"
    }
   ],
   "source": [
    "X1 = preprocessing.StandardScaler().fit(X1).transform(X1.astype(float))\n",
    "X1[0:5]"
   ]
  },
  {
   "cell_type": "markdown",
   "metadata": {},
   "source": [
    "#### Training the data\n",
    "\n",
    "We will use train test split in order to make the best out of sample prediction."
   ]
  },
  {
   "cell_type": "code",
   "execution_count": 60,
   "metadata": {},
   "outputs": [
    {
     "name": "stdout",
     "output_type": "stream",
     "text": [
      "Train set: (82216, 3) (82216,)\n",
      "Test set: (20554, 3) (20554,)\n"
     ]
    }
   ],
   "source": [
    "from sklearn.model_selection import train_test_split # the library\n",
    "X1_train, X1_test, y1_train, y1_test = train_test_split( X1, y1, test_size=0.2, random_state=4)\n",
    "print ('Train set:', X1_train.shape,  y1_train.shape)\n",
    "print ('Test set:', X1_test.shape,  y1_test.shape)"
   ]
  },
  {
   "cell_type": "code",
   "execution_count": 61,
   "metadata": {},
   "outputs": [
    {
     "data": {
      "text/plain": [
       "KNeighborsClassifier(algorithm='auto', leaf_size=30, metric='minkowski',\n",
       "                     metric_params=None, n_jobs=None, n_neighbors=4, p=2,\n",
       "                     weights='uniform')"
      ]
     },
     "execution_count": 61,
     "metadata": {},
     "output_type": "execute_result"
    }
   ],
   "source": [
    "# Library fot k nearest\n",
    "from sklearn.neighbors import KNeighborsClassifier\n",
    "# Training\n",
    "k = 4  # We choose random numbers for k value\n",
    "n_gh = KNeighborsClassifier(n_neighbors = k).fit(X1_train,y1_train)\n",
    "n_gh"
   ]
  },
  {
   "cell_type": "markdown",
   "metadata": {},
   "source": [
    "#### Predicting "
   ]
  },
  {
   "cell_type": "code",
   "execution_count": 62,
   "metadata": {},
   "outputs": [
    {
     "data": {
      "text/plain": [
       "array([0., 0., 0., 0., 0.])"
      ]
     },
     "execution_count": 62,
     "metadata": {},
     "output_type": "execute_result"
    }
   ],
   "source": [
    "y_hat = n_gh.predict(X1_test)\n",
    "y_hat[0:5]"
   ]
  },
  {
   "cell_type": "markdown",
   "metadata": {},
   "source": [
    "#### Accuracy assessment"
   ]
  },
  {
   "cell_type": "code",
   "execution_count": 63,
   "metadata": {},
   "outputs": [
    {
     "name": "stdout",
     "output_type": "stream",
     "text": [
      "Train set Accuracy:  0.9820229638999708\n",
      "Test set Accuracy:  0.9840420356135059\n"
     ]
    }
   ],
   "source": [
    "from sklearn import metrics\n",
    "print(\"Train set Accuracy: \", metrics.accuracy_score(y1_train, n_gh.predict(X1_train)))\n",
    "print(\"Test set Accuracy: \", metrics.accuracy_score(y1_test, y_hat))"
   ]
  },
  {
   "cell_type": "code",
   "execution_count": 64,
   "metadata": {},
   "outputs": [
    {
     "name": "stdout",
     "output_type": "stream",
     "text": [
      "Train set Accuracy:  0.9819743115695242\n",
      "Test set Accuracy:  0.9842366449352924\n"
     ]
    }
   ],
   "source": [
    "# What if we choose k = 6\n",
    "k = 6\n",
    "n_gh6 = KNeighborsClassifier(n_neighbors = k).fit(X1_train,y1_train)\n",
    "y_hat6 = n_gh6.predict(X1_test)\n",
    "print(\"Train set Accuracy: \", metrics.accuracy_score(y1_train, n_gh6.predict(X1_train)))\n",
    "print(\"Test set Accuracy: \", metrics.accuracy_score(y1_test, y_hat6))"
   ]
  },
  {
   "cell_type": "markdown",
   "metadata": {},
   "source": [
    "#### Choosing right value for K"
   ]
  },
  {
   "cell_type": "code",
   "execution_count": 66,
   "metadata": {},
   "outputs": [
    {
     "data": {
      "text/plain": [
       "array([0.9675489 , 0.98379877, 0.98272842, 0.98404204, 0.98399338,\n",
       "       0.98423664, 0.98423664, 0.98423664, 0.98423664])"
      ]
     },
     "execution_count": 66,
     "metadata": {},
     "output_type": "execute_result"
    }
   ],
   "source": [
    "Ks = 10\n",
    "mean_acc = np.zeros((Ks-1))\n",
    "std_acc = np.zeros((Ks-1))\n",
    "ConfustionMx = [];\n",
    "for n in range(1,Ks):\n",
    "    \n",
    "    #Train Model and Predict  \n",
    "    n_gh_k = KNeighborsClassifier(n_neighbors = n).fit(X1_train,y1_train)\n",
    "    y_hat_k=n_gh_k.predict(X1_test)\n",
    "    mean_acc[n-1] = metrics.accuracy_score(y1_test, y_hat_k)\n",
    "\n",
    "    \n",
    "    std_acc[n-1]=np.std(y_hat_k == y1_test)/np.sqrt(y_hat_k.shape[0])\n",
    "\n",
    "mean_acc"
   ]
  },
  {
   "cell_type": "code",
   "execution_count": 67,
   "metadata": {},
   "outputs": [
    {
     "data": {
      "image/png": "[encoded data removed]",
      "text/plain": [
       "<Figure size 360x288 with 1 Axes>"
      ]
     },
     "metadata": {
      "needs_background": "light"
     },
     "output_type": "display_data"
    }
   ],
   "source": [
    "plt.plot(range(1,Ks),mean_acc,'g')\n",
    "plt.fill_between(range(1,Ks),mean_acc - 1 * std_acc,mean_acc + 1 * std_acc, alpha=0.10)\n",
    "plt.legend(('Accuracy ', '+/- 3xstd'))\n",
    "plt.ylabel('Accuracy ')\n",
    "plt.xlabel('Number of Nabors (K)')\n",
    "plt.tight_layout()\n",
    "plt.show()"
   ]
  },
  {
   "cell_type": "code",
   "execution_count": 68,
   "metadata": {},
   "outputs": [
    {
     "name": "stdout",
     "output_type": "stream",
     "text": [
      "The best accuracy was with 0.9842366449352924 with k= 6\n"
     ]
    }
   ],
   "source": [
    "print( \"The best accuracy was with\", mean_acc.max(), \"with k=\", mean_acc.argmax()+1) "
   ]
  },
  {
   "cell_type": "code",
   "execution_count": null,
   "metadata": {},
   "outputs": [],
   "source": []
  }
 ],
 "metadata": {
  "kernelspec": {
   "display_name": "Python 3",
   "language": "python",
   "name": "python3"
  },
  "language_info": {
   "codemirror_mode": {
    "name": "ipython",
    "version": 3
   },
   "file_extension": ".py",
   "mimetype": "text/x-python",
   "name": "python",
   "nbconvert_exporter": "python",
   "pygments_lexer": "ipython3",
   "version": "3.7.6"
  }
 },
 "nbformat": 4,
 "nbformat_minor": 4
}
